{
 "cells": [
  {
   "cell_type": "code",
   "execution_count": 1,
   "metadata": {},
   "outputs": [
    {
     "name": "stdout",
     "output_type": "stream",
     "text": [
      "MoviePy - Writing audio in extracted_audio.wav\n"
     ]
    },
    {
     "name": "stderr",
     "output_type": "stream",
     "text": [
      "                                                                    "
     ]
    },
    {
     "name": "stdout",
     "output_type": "stream",
     "text": [
      "MoviePy - Done.\n"
     ]
    },
    {
     "name": "stderr",
     "output_type": "stream",
     "text": [
      "\r"
     ]
    },
    {
     "name": "stdout",
     "output_type": "stream",
     "text": [
      "Model loaded successfully\n",
      "\u001b[1m1/1\u001b[0m \u001b[32m━━━━━━━━━━━━━━━━━━━━\u001b[0m\u001b[37m\u001b[0m \u001b[1m0s\u001b[0m 262ms/step\n",
      "\u001b[1m1/1\u001b[0m \u001b[32m━━━━━━━━━━━━━━━━━━━━\u001b[0m\u001b[37m\u001b[0m \u001b[1m0s\u001b[0m 22ms/step\n",
      "\u001b[1m1/1\u001b[0m \u001b[32m━━━━━━━━━━━━━━━━━━━━\u001b[0m\u001b[37m\u001b[0m \u001b[1m0s\u001b[0m 22ms/step\n",
      "\u001b[1m1/1\u001b[0m \u001b[32m━━━━━━━━━━━━━━━━━━━━\u001b[0m\u001b[37m\u001b[0m \u001b[1m0s\u001b[0m 20ms/step\n",
      "Emotion Percentages: ({'neutral': 0.0, 'calm': 0.25, 'happy': 0.25, 'sad': 0.0, 'fearful': 0.25, 'surprised': 0.25}, 4)\n"
     ]
    }
   ],
   "source": [
    "import numpy as np\n",
    "import joblib\n",
    "import tensorflow as tf\n",
    "import librosa\n",
    "from moviepy.editor import VideoFileClip\n",
    "from sklearn.preprocessing import LabelEncoder\n",
    "\n",
    "# Define the observed emotions\n",
    "observed_emotions = ['neutral', 'calm', 'happy', 'sad', 'fearful', 'surprised']\n",
    "\n",
    "def extract_feature(data, sr, mfcc=True, chroma=True, mel=True):\n",
    "    result = np.array([])\n",
    "    if chroma:\n",
    "        stft = np.abs(librosa.stft(data))\n",
    "    if mfcc:\n",
    "        mfccs = np.mean(librosa.feature.mfcc(y=data, sr=sr, n_mfcc=40).T, axis=0)\n",
    "        result = np.hstack((result, mfccs))\n",
    "    if chroma:\n",
    "        chroma_feature = np.mean(librosa.feature.chroma_stft(S=stft, sr=sr).T, axis=0)\n",
    "        result = np.hstack((result, chroma_feature))\n",
    "    if mel:\n",
    "        mel_feature = np.mean(librosa.feature.melspectrogram(y=data, sr=sr).T, axis=0)\n",
    "        result = np.hstack((result, mel_feature))\n",
    "    return result\n",
    "\n",
    "def extract_audio_from_video(video_path, audio_path):\n",
    "    video = VideoFileClip(video_path)\n",
    "    audio = video.audio\n",
    "    audio.write_audiofile(audio_path)\n",
    "\n",
    "def predict_emotion(file_path):\n",
    "    # Load the model without compiling\n",
    "    model = tf.keras.models.load_model('emotion_recognition_model_combined.h5', compile=False)\n",
    "    print(\"Model loaded successfully\")\n",
    "\n",
    "    # Compile the model with a new optimizer if needed\n",
    "    optimizer = tf.keras.optimizers.RMSprop(learning_rate=0.001)  # Adjust learning rate as necessary\n",
    "    model.compile(optimizer=optimizer, loss='sparse_categorical_crossentropy', metrics=['accuracy'])\n",
    "\n",
    "    # Load the label encoder\n",
    "    label_encoder = joblib.load('label_encoder_combined.pkl')\n",
    "\n",
    "    # Load and preprocess the audio file\n",
    "    data, sr = librosa.load(file_path)\n",
    "    segment_length = 5  # Segment length in seconds\n",
    "    segment_samples = segment_length * sr\n",
    "    emotion_counts = {emotion: 0 for emotion in observed_emotions}\n",
    "\n",
    "    num_segments = len(data) // segment_samples\n",
    "    remaining_samples = len(data) % segment_samples\n",
    "\n",
    "    # Process each full segment\n",
    "    for i in range(num_segments):\n",
    "        start = i * segment_samples\n",
    "        end = start + segment_samples\n",
    "        segment = data[start:end]\n",
    "        feature = extract_feature(segment, sr)\n",
    "        feature_processed = np.expand_dims(feature, axis=0)\n",
    "        feature_processed = np.expand_dims(feature_processed, axis=2)\n",
    "\n",
    "        # Make prediction\n",
    "        y_pred = model.predict(feature_processed)\n",
    "        y_pred = np.argmax(y_pred, axis=1)\n",
    "        predicted_emotion = label_encoder.inverse_transform(y_pred)[0]\n",
    "        emotion_counts[predicted_emotion] += 1\n",
    "\n",
    "    # Process the remaining part if it's significant\n",
    "    if remaining_samples > 0:\n",
    "        start = num_segments * segment_samples\n",
    "        segment = data[start:]\n",
    "        feature = extract_feature(segment, sr)\n",
    "        feature_processed = np.expand_dims(feature, axis=0)\n",
    "        feature_processed = np.expand_dims(feature_processed, axis=2)\n",
    "\n",
    "        # Make prediction\n",
    "        y_pred = model.predict(feature_processed)\n",
    "        y_pred = np.argmax(y_pred, axis=1)\n",
    "        predicted_emotion = label_encoder.inverse_transform(y_pred)[0]\n",
    "        emotion_counts[predicted_emotion] += 1\n",
    "\n",
    "    # Calculate percentage\n",
    "    total_segments = sum(emotion_counts.values())\n",
    "    emotion_percentages = {emotion: (count / total_segments) for emotion, count in emotion_counts.items()}\n",
    "    \n",
    "    return emotion_percentages\n",
    "\n",
    "def process_video(video_path):\n",
    "    audio_path = 'extracted_audio.wav'\n",
    "    \n",
    "    # Extract audio from video\n",
    "    extract_audio_from_video(video_path, audio_path)\n",
    "    \n",
    "    # Predict emotion for the extracted audio\n",
    "    emotion_percentages = predict_emotion(audio_path)\n",
    "    \n",
    "    return emotion_percentages\n",
    "\n",
    "# Example usage\n",
    "video_path = 'E:\\SER\\_uNup91ZYw0.002.mp4'  # Replace with your video file path\n",
    "emotion_percentages = process_video(video_path)\n",
    "print(\"Emotion Percentages:\", emotion_percentages)\n"
   ]
  }
 ],
 "metadata": {
  "kernelspec": {
   "display_name": "ser",
   "language": "python",
   "name": "python3"
  },
  "language_info": {
   "codemirror_mode": {
    "name": "ipython",
    "version": 3
   },
   "file_extension": ".py",
   "mimetype": "text/x-python",
   "name": "python",
   "nbconvert_exporter": "python",
   "pygments_lexer": "ipython3",
   "version": "3.10.14"
  }
 },
 "nbformat": 4,
 "nbformat_minor": 2
}
